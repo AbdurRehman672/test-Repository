{
 "cells": [
  {
   "cell_type": "code",
   "execution_count": null,
   "id": "fdce6f32-d0bc-4c91-ac05-224f60deb8fc",
   "metadata": {},
   "outputs": [],
   "source": [
    "pip install sympy "
   ]
  },
  {
   "cell_type": "code",
   "execution_count": 1,
   "id": "9184e772-fb50-4a67-aece-6773017d35c8",
   "metadata": {},
   "outputs": [
    {
     "name": "stdin",
     "output_type": "stream",
     "text": [
      "Enter the number of variables :  1\n",
      "Enter the variables saperated by space :  x\n",
      "Enter the equation :  3*x + 2 = 0\n"
     ]
    },
    {
     "name": "stdout",
     "output_type": "stream",
     "text": [
      "Solved for (x) : [-2/3]\n"
     ]
    }
   ],
   "source": [
    "from sympy import solve, symbols, sympify, Eq\n",
    "\n",
    "def algebricPuzzleSolver():\n",
    "    numVar  = int(input(\"Enter the number of variables : \")) #1\n",
    "    VarName = input(\"Enter the variables saperated by space : \")#.split() #x\n",
    "    variabl = symbols(VarName)\n",
    "    inputEq = input(\"Enter the equation : \") #3x + 2 = 0    3x = -2     x = -2/3\n",
    "    Lhs,Rhs = inputEq.split(\"=\")\n",
    "    Lhs     = Lhs.strip()\n",
    "    Rhs     = Rhs.strip()\n",
    "    Equa    = Eq(sympify(Lhs),sympify(Rhs))\n",
    "    mySolve = solve(Equa,variabl)\n",
    "    print(f\"Solved for ({variabl}) : {mySolve}\")\n",
    "try:\n",
    "    algebricPuzzleSolver()\n",
    "except Exception as e:\n",
    "    print(\"ERROR !!!\",e)"
   ]
  },
  {
   "cell_type": "code",
   "execution_count": null,
   "id": "46185568-dd80-491d-a84b-61bf07c673cf",
   "metadata": {},
   "outputs": [],
   "source": [
    "Enter the number of variables :  1\n",
    "Enter the variables saperated by space :  x\n",
    "Enter the equation :  3*x + 2 = 0\n",
    "Solved for (x) : [-2/3]"
   ]
  },
  {
   "cell_type": "code",
   "execution_count": null,
   "id": "cbac0a7c-9a3d-4a97-a057-f6b47b32e22e",
   "metadata": {},
   "outputs": [],
   "source": [
    "import sympy as sp\n",
    "\n",
    "def solve_equations():\n",
    "    try:\n",
    "        num_vars = int(input(\"Enter the number of variables: \")) #1\n",
    "        variables = sp.symbols(f'x:{num_vars}') #x0 \n",
    "        equations = []\n",
    "\n",
    "        for i in range(num_vars):\n",
    "            user_equ = input(f\"Enter equation {i+1} (in terms of {variables}): \")\n",
    "            lhs, rhs = user_equ.split('=') #2*x0 + 1 = 0\n",
    "            lhs = sp.sympify(lhs.strip())\n",
    "            rhs = sp.sympify(rhs.strip())\n",
    "            equations.append(sp.Eq(lhs, rhs))\n",
    "        \n",
    "        solution = sp.solve(equations, variables)\n",
    "        print(solution)\n",
    "        \n",
    "    except Exception as e:\n",
    "        print(\"An error occurred:\", e)\n",
    "\n",
    "\n",
    "solve_equations()"
   ]
  },
  {
   "cell_type": "code",
   "execution_count": null,
   "id": "38c2d5d6-59ca-4170-938f-6db0e6b32c81",
   "metadata": {},
   "outputs": [],
   "source": [
    "Enter the number of variables:  1\n",
    "Enter equation 1 (in terms of (x0,)):  2*x0 + 1 = 0\n",
    "{x0: -1/2}"
   ]
  },
  {
   "cell_type": "code",
   "execution_count": null,
   "id": "423e1e0d-a24d-4100-979d-5fce3dbce2c9",
   "metadata": {},
   "outputs": [],
   "source": []
  }
 ],
 "metadata": {
  "kernelspec": {
   "display_name": "Python 3 (ipykernel)",
   "language": "python",
   "name": "python3"
  },
  "language_info": {
   "codemirror_mode": {
    "name": "ipython",
    "version": 3
   },
   "file_extension": ".py",
   "mimetype": "text/x-python",
   "name": "python",
   "nbconvert_exporter": "python",
   "pygments_lexer": "ipython3",
   "version": "3.12.7"
  }
 },
 "nbformat": 4,
 "nbformat_minor": 5
}
